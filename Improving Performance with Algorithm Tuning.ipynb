{
 "cells": [
  {
   "cell_type": "markdown",
   "id": "pressed-application",
   "metadata": {},
   "source": [
    "# Improving Performance with Algorithm Tuning\n",
    "* Models are parametrized so that their behaviour can be tuned for a given problem.\n",
    "* Models can have many parameters and finding the best combination of parameters can be treated as a search problem.\n",
    "* Algorithm tuning is a final step in the process of applied machine learning before finalizing our model.\n",
    "* Phrased as a search problem we can use different search strategies to find a good and robust parameter or set of parameters for an algorithm on a given problem.\n",
    "\n",
    "## Two simple methods for algorithm parameter tuning : \n",
    "1. **Grid Search Parameter Tuning**\n",
    "2. **Random Search Parameter Tuning**"
   ]
  },
  {
   "cell_type": "markdown",
   "id": "occasional-consultation",
   "metadata": {},
   "source": [
    "### 1. Grid Search Parameter Tuning\n",
    "* It will methodically build and evaluate a model for each combination of algorithm parameters specified in a grid."
   ]
  },
  {
   "cell_type": "code",
   "execution_count": 2,
   "id": "identified-bradley",
   "metadata": {},
   "outputs": [
    {
     "name": "stdout",
     "output_type": "stream",
     "text": [
      "0.2761084412929244\n",
      "1.0\n"
     ]
    }
   ],
   "source": [
    "# Grid Search for Algorithm Tuning\n",
    "import numpy\n",
    "from pandas import read_csv\n",
    "from sklearn.linear_model import Ridge\n",
    "from sklearn.model_selection import GridSearchCV\n",
    "filename = 'pima-indians-diabetes.data.csv'\n",
    "names = ['preg','plas','pres','skin','test','mass','pedi','age','class']\n",
    "dataframe = read_csv(filename,names=names)\n",
    "array = dataframe.values\n",
    "X = array[:,0:8]\n",
    "Y = array[:,8]\n",
    "alphas = numpy.array([1,0.1,0.01,0.001,0.0001,0])\n",
    "param_grid = dict(alpha=alphas)\n",
    "model = Ridge()\n",
    "grid = GridSearchCV(estimator=model,param_grid=param_grid)\n",
    "grid.fit(X,Y)\n",
    "print(grid.best_score_)\n",
    "print(grid.best_estimator_.alpha)\n",
    "## alpha =1 achieved best score"
   ]
  },
  {
   "cell_type": "markdown",
   "id": "approved-luther",
   "metadata": {},
   "source": [
    "### 2. Random Search Parameter Tuning\n",
    "* It will sample algorithm parameters from a random distribution(uniform) for a fixed number of iterations.\n",
    "* A model is constructed and evaluated for each combination of parameters chosen."
   ]
  },
  {
   "cell_type": "code",
   "execution_count": 4,
   "id": "annual-structure",
   "metadata": {},
   "outputs": [
    {
     "name": "stdout",
     "output_type": "stream",
     "text": [
      "0.2761083261885774\n",
      "0.9971291645907566\n"
     ]
    }
   ],
   "source": [
    "# Randomized for Algorithm Tuning\n",
    "import numpy \n",
    "from pandas import read_csv\n",
    "from scipy.stats import uniform\n",
    "from sklearn.linear_model import Ridge\n",
    "from sklearn.model_selection import RandomizedSearchCV\n",
    "param_grid = {'alpha' : uniform()}\n",
    "model = Ridge()\n",
    "rsearch = RandomizedSearchCV(estimator=model,param_distributions=param_grid,n_iter=100,random_state=None)\n",
    "rsearch.fit(X,Y)\n",
    "print(rsearch.best_score_)\n",
    "print(rsearch.best_estimator_.alpha)"
   ]
  },
  {
   "cell_type": "markdown",
   "id": "forbidden-facial",
   "metadata": {},
   "source": [
    "# Summary\n",
    "* we learned Grid Search Parameter Tuning and Random Search Parameter Tuning"
   ]
  },
  {
   "cell_type": "code",
   "execution_count": null,
   "id": "comprehensive-municipality",
   "metadata": {},
   "outputs": [],
   "source": []
  }
 ],
 "metadata": {
  "kernelspec": {
   "display_name": "Python 3",
   "language": "python",
   "name": "python3"
  },
  "language_info": {
   "codemirror_mode": {
    "name": "ipython",
    "version": 3
   },
   "file_extension": ".py",
   "mimetype": "text/x-python",
   "name": "python",
   "nbconvert_exporter": "python",
   "pygments_lexer": "ipython3",
   "version": "3.7.5"
  }
 },
 "nbformat": 4,
 "nbformat_minor": 5
}
